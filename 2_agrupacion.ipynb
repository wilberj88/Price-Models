{
  "nbformat": 4,
  "nbformat_minor": 0,
  "metadata": {
    "kernelspec": {
      "display_name": "Python 3",
      "language": "python",
      "name": "python3"
    },
    "language_info": {
      "codemirror_mode": {
        "name": "ipython",
        "version": 3
      },
      "file_extension": ".py",
      "mimetype": "text/x-python",
      "name": "python",
      "nbconvert_exporter": "python",
      "pygments_lexer": "ipython3",
      "version": "3.7.5"
    },
    "colab": {
      "name": "2_agrupacion.ipynb",
      "provenance": [],
      "include_colab_link": true
    }
  },
  "cells": [
    {
      "cell_type": "markdown",
      "metadata": {
        "id": "view-in-github",
        "colab_type": "text"
      },
      "source": [
        "<a href=\"https://colab.research.google.com/github/wilberj88/Price-Models/blob/main/2_agrupacion.ipynb\" target=\"_parent\"><img src=\"https://colab.research.google.com/assets/colab-badge.svg\" alt=\"Open In Colab\"/></a>"
      ]
    },
    {
      "cell_type": "markdown",
      "metadata": {
        "id": "jjb-KmKVLaq1",
        "colab_type": "text"
      },
      "source": [
        "<img src=\"https://raw.githubusercontent.com/paular143/images_notebooks/master/logo-sin-nombre.png\" alt=\"Universidad de Los Andes\" style=\"width: 90px;\" align=\"left\" frameborder=\"300\"/>\n",
        "\n",
        "**UNIVERSIDAD DE LOS ANDES** <br>\n",
        "**FACULTAD DE ECONOMÍA - EDUCACIÓN CONTINUADA** <br>\n",
        "**Análisis espacial de datos y sus aplicaciones en Python 2020** <br>\n",
        "**PROFESORES:** Germán González y Mateo Dulce <br><br>\n",
        "\n",
        "\n",
        "# Clase 8: Dbscan\n"
      ]
    },
    {
      "cell_type": "code",
      "metadata": {
        "id": "LEY58GRQLaq3",
        "colab_type": "code",
        "colab": {}
      },
      "source": [
        "# !pip3 install shapely\n",
        "# !pip3 install pyproj\n",
        "# !pip3 install folium\n",
        "# !pip3 install pandas\n",
        "# !pip3 install requests\n",
        "# !pip3 install geopy\n",
        "# !pip3 install geojson\n",
        "# !pip3 install xlrd\n",
        "# !pip3 install sklearn\n",
        "\n",
        "import pyproj\n",
        "from functools import partial\n",
        "import shapely.geometry\n",
        "from shapely.ops import transform\n",
        "from shapely.geometry.polygon import Polygon \n",
        "from shapely.geometry import Point, MultiPoint \n",
        "from geopy.distance import great_circle\n",
        "import folium\n",
        "import geojson\n",
        "import json\n",
        "import pandas as pd\n",
        "import re\n",
        "import geopy\n",
        "import requests\n",
        "import time\n",
        "import numpy as np\n",
        "from geopy.distance import geodesic\n",
        "from geopy.geocoders import Nominatim\n",
        "from sklearn.cluster import DBSCAN\n",
        "\n"
      ],
      "execution_count": null,
      "outputs": []
    },
    {
      "cell_type": "markdown",
      "metadata": {
        "id": "kGJyry9pLaq9",
        "colab_type": "text"
      },
      "source": [
        "## Comercios de bogotá: Camara de Comercio 2016 - Submuestra 250 comercios - Usaquen"
      ]
    },
    {
      "cell_type": "code",
      "metadata": {
        "id": "ZRwhrRKVLaq_",
        "colab_type": "code",
        "colab": {}
      },
      "source": [
        "Lugares_usaquen_sample = pd.read_pickle('/Users/germangonzalez/Dropbox (Quantil)/Uniandes Analisis espacial/Clases/Clase 8 - Dash/Lugares_sample.gzip',compression='gzip')"
      ],
      "execution_count": null,
      "outputs": []
    },
    {
      "cell_type": "code",
      "metadata": {
        "id": "7kVMBSXgLarH",
        "colab_type": "code",
        "colab": {},
        "outputId": "da7c781e-416e-4c3e-be08-6f34271ed33d"
      },
      "source": [
        "Lugares_usaquen_sample"
      ],
      "execution_count": null,
      "outputs": [
        {
          "output_type": "execute_result",
          "data": {
            "text/html": [
              "<div>\n",
              "<style scoped>\n",
              "    .dataframe tbody tr th:only-of-type {\n",
              "        vertical-align: middle;\n",
              "    }\n",
              "\n",
              "    .dataframe tbody tr th {\n",
              "        vertical-align: top;\n",
              "    }\n",
              "\n",
              "    .dataframe thead th {\n",
              "        text-align: right;\n",
              "    }\n",
              "</style>\n",
              "<table border=\"1\" class=\"dataframe\">\n",
              "  <thead>\n",
              "    <tr style=\"text-align: right;\">\n",
              "      <th></th>\n",
              "      <th>ID</th>\n",
              "      <th>Nombre</th>\n",
              "      <th>Actividad</th>\n",
              "      <th>Direccion</th>\n",
              "      <th>Latitude</th>\n",
              "      <th>Longitude</th>\n",
              "      <th>Point</th>\n",
              "      <th>Grupo</th>\n",
              "    </tr>\n",
              "  </thead>\n",
              "  <tbody>\n",
              "    <tr>\n",
              "      <th>0</th>\n",
              "      <td>0</td>\n",
              "      <td>TU TIENDA . U</td>\n",
              "      <td>Alojamiento y servicios de comida</td>\n",
              "      <td>CL 131 No 58 35 IN 3 AP 310</td>\n",
              "      <td>4.777510</td>\n",
              "      <td>-74.041255</td>\n",
              "      <td>POINT (-74.04125490482421 4.777510416416243)</td>\n",
              "      <td>0</td>\n",
              "    </tr>\n",
              "    <tr>\n",
              "      <th>1</th>\n",
              "      <td>1</td>\n",
              "      <td>SERVICIOS INTEGRALES DE LOS ANDES</td>\n",
              "      <td>Actividades de atencionde la salud humana y de...</td>\n",
              "      <td>CLL 184 NO. 41-61 INT 1 APTO 402</td>\n",
              "      <td>4.760924</td>\n",
              "      <td>-74.043020</td>\n",
              "      <td>POINT (-74.04302011142549 4.760923651396257)</td>\n",
              "      <td>1</td>\n",
              "    </tr>\n",
              "    <tr>\n",
              "      <th>2</th>\n",
              "      <td>2</td>\n",
              "      <td>VELO'S  BICYCLE</td>\n",
              "      <td>Construccion</td>\n",
              "      <td>CL 164 A . 8 C - 47</td>\n",
              "      <td>4.740671</td>\n",
              "      <td>-74.027962</td>\n",
              "      <td>POINT (-74.02796248415774 4.740670707074391)</td>\n",
              "      <td>2</td>\n",
              "    </tr>\n",
              "    <tr>\n",
              "      <th>3</th>\n",
              "      <td>3</td>\n",
              "      <td>AGROPECUARIA PIGS CATTLE TROPICAL</td>\n",
              "      <td>Agricultura, ganader¡a, caza, silvicultura y p...</td>\n",
              "      <td>CR 55 No 151 69</td>\n",
              "      <td>4.720658</td>\n",
              "      <td>-74.039057</td>\n",
              "      <td>POINT (-74.03905669588293 4.720657536006083)</td>\n",
              "      <td>3</td>\n",
              "    </tr>\n",
              "    <tr>\n",
              "      <th>4</th>\n",
              "      <td>4</td>\n",
              "      <td>PUNTO DE VENTA CALLE 150</td>\n",
              "      <td>Industrias manufactureras</td>\n",
              "      <td>AV 19 N.150  - 04</td>\n",
              "      <td>4.731748</td>\n",
              "      <td>-74.044676</td>\n",
              "      <td>POINT (-74.04467582597005 4.731747614581696)</td>\n",
              "      <td>3</td>\n",
              "    </tr>\n",
              "    <tr>\n",
              "      <th>...</th>\n",
              "      <td>...</td>\n",
              "      <td>...</td>\n",
              "      <td>...</td>\n",
              "      <td>...</td>\n",
              "      <td>...</td>\n",
              "      <td>...</td>\n",
              "      <td>...</td>\n",
              "      <td>...</td>\n",
              "    </tr>\n",
              "    <tr>\n",
              "      <th>245</th>\n",
              "      <td>245</td>\n",
              "      <td>CORPO BELLO</td>\n",
              "      <td>Actividades de atencionde la salud humana y de...</td>\n",
              "      <td>CL 127 NO. 19 A 44</td>\n",
              "      <td>4.706272</td>\n",
              "      <td>-74.050034</td>\n",
              "      <td>POINT (-74.05003421824934 4.706272005032837)</td>\n",
              "      <td>4</td>\n",
              "    </tr>\n",
              "    <tr>\n",
              "      <th>246</th>\n",
              "      <td>246</td>\n",
              "      <td>DENTAL CLINIC COLOMBIA</td>\n",
              "      <td>Actividades de atencionde la salud humana y de...</td>\n",
              "      <td>CR 14 A . 112 96 CONS 402</td>\n",
              "      <td>4.694596</td>\n",
              "      <td>-74.039045</td>\n",
              "      <td>POINT (-74.03904480218857 4.694596429824847)</td>\n",
              "      <td>4</td>\n",
              "    </tr>\n",
              "    <tr>\n",
              "      <th>247</th>\n",
              "      <td>247</td>\n",
              "      <td>RISTORANTE LA BRUSCHETA</td>\n",
              "      <td>Alojamiento y servicios de comida</td>\n",
              "      <td>DG 109 NO. 14-61</td>\n",
              "      <td>4.691747</td>\n",
              "      <td>-74.043599</td>\n",
              "      <td>POINT (-74.04359933434091 4.691746978251736)</td>\n",
              "      <td>4</td>\n",
              "    </tr>\n",
              "    <tr>\n",
              "      <th>248</th>\n",
              "      <td>248</td>\n",
              "      <td>TO BLOSSOM</td>\n",
              "      <td>Otras actividades de servicios</td>\n",
              "      <td>CR 19 . 122 49 LC 6</td>\n",
              "      <td>4.702478</td>\n",
              "      <td>-74.049456</td>\n",
              "      <td>POINT (-74.0494559466498 4.702477665611049)</td>\n",
              "      <td>4</td>\n",
              "    </tr>\n",
              "    <tr>\n",
              "      <th>249</th>\n",
              "      <td>249</td>\n",
              "      <td>EL CHORIZO INFIEL</td>\n",
              "      <td>Alojamiento y servicios de comida</td>\n",
              "      <td>CR 20 BIS NO. 163-50</td>\n",
              "      <td>4.739561</td>\n",
              "      <td>-74.028298</td>\n",
              "      <td>POINT (-74.02829780189711 4.739560548654512)</td>\n",
              "      <td>2</td>\n",
              "    </tr>\n",
              "  </tbody>\n",
              "</table>\n",
              "<p>250 rows × 8 columns</p>\n",
              "</div>"
            ],
            "text/plain": [
              "      ID                             Nombre  \\\n",
              "0      0                      TU TIENDA . U   \n",
              "1      1  SERVICIOS INTEGRALES DE LOS ANDES   \n",
              "2      2                    VELO'S  BICYCLE   \n",
              "3      3  AGROPECUARIA PIGS CATTLE TROPICAL   \n",
              "4      4           PUNTO DE VENTA CALLE 150   \n",
              "..   ...                                ...   \n",
              "245  245                        CORPO BELLO   \n",
              "246  246             DENTAL CLINIC COLOMBIA   \n",
              "247  247            RISTORANTE LA BRUSCHETA   \n",
              "248  248                         TO BLOSSOM   \n",
              "249  249                  EL CHORIZO INFIEL   \n",
              "\n",
              "                                             Actividad  \\\n",
              "0                    Alojamiento y servicios de comida   \n",
              "1    Actividades de atencionde la salud humana y de...   \n",
              "2                                         Construccion   \n",
              "3    Agricultura, ganader¡a, caza, silvicultura y p...   \n",
              "4                            Industrias manufactureras   \n",
              "..                                                 ...   \n",
              "245  Actividades de atencionde la salud humana y de...   \n",
              "246  Actividades de atencionde la salud humana y de...   \n",
              "247                  Alojamiento y servicios de comida   \n",
              "248                     Otras actividades de servicios   \n",
              "249                  Alojamiento y servicios de comida   \n",
              "\n",
              "                            Direccion  Latitude  Longitude  \\\n",
              "0         CL 131 No 58 35 IN 3 AP 310  4.777510 -74.041255   \n",
              "1    CLL 184 NO. 41-61 INT 1 APTO 402  4.760924 -74.043020   \n",
              "2                 CL 164 A . 8 C - 47  4.740671 -74.027962   \n",
              "3                     CR 55 No 151 69  4.720658 -74.039057   \n",
              "4                   AV 19 N.150  - 04  4.731748 -74.044676   \n",
              "..                                ...       ...        ...   \n",
              "245                CL 127 NO. 19 A 44  4.706272 -74.050034   \n",
              "246         CR 14 A . 112 96 CONS 402  4.694596 -74.039045   \n",
              "247                  DG 109 NO. 14-61  4.691747 -74.043599   \n",
              "248               CR 19 . 122 49 LC 6  4.702478 -74.049456   \n",
              "249              CR 20 BIS NO. 163-50  4.739561 -74.028298   \n",
              "\n",
              "                                            Point  Grupo  \n",
              "0    POINT (-74.04125490482421 4.777510416416243)      0  \n",
              "1    POINT (-74.04302011142549 4.760923651396257)      1  \n",
              "2    POINT (-74.02796248415774 4.740670707074391)      2  \n",
              "3    POINT (-74.03905669588293 4.720657536006083)      3  \n",
              "4    POINT (-74.04467582597005 4.731747614581696)      3  \n",
              "..                                            ...    ...  \n",
              "245  POINT (-74.05003421824934 4.706272005032837)      4  \n",
              "246  POINT (-74.03904480218857 4.694596429824847)      4  \n",
              "247  POINT (-74.04359933434091 4.691746978251736)      4  \n",
              "248   POINT (-74.0494559466498 4.702477665611049)      4  \n",
              "249  POINT (-74.02829780189711 4.739560548654512)      2  \n",
              "\n",
              "[250 rows x 8 columns]"
            ]
          },
          "metadata": {
            "tags": []
          },
          "execution_count": 360
        }
      ]
    },
    {
      "cell_type": "markdown",
      "metadata": {
        "id": "9yNJEHdILarP",
        "colab_type": "text"
      },
      "source": [
        "## Visualización Mapa"
      ]
    },
    {
      "cell_type": "code",
      "metadata": {
        "id": "LP6f-c_6LarQ",
        "colab_type": "code",
        "colab": {}
      },
      "source": [
        "mapa = folium.Map(location=[4.729494,-74.049345],zoom_start=15,tiles='cartodbpositron')\n",
        "\n",
        "for j in range(0,len(Lugares_usaquen_sample)):\n",
        "    punto = Lugares_usaquen_sample.iloc[j] \n",
        "    folium.Marker(\n",
        "        [punto['Latitude'],punto['Longitude']]\n",
        "    ).add_to(mapa)\n"
      ],
      "execution_count": null,
      "outputs": []
    },
    {
      "cell_type": "code",
      "metadata": {
        "id": "IbcgQY4xLarU",
        "colab_type": "code",
        "colab": {},
        "outputId": "0b342061-7046-4355-dc66-ee29dabbbf93"
      },
      "source": [
        "mapa"
      ],
      "execution_count": null,
      "outputs": [
        {
          "output_type": "execute_result",
          "data": {
            "text/html": [
              "<div style=\"width:100%;\"><div style=\"position:relative;width:100%;height:0;padding-bottom:60%;\"><span style=\"color:#565656\">Make this Notebook Trusted to load map: File -> Trust Notebook</span><iframe src=\"about:blank\" style=\"position:absolute;width:100%;height:100%;left:0;top:0;border:none !important;\" data-html=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 onload=\"this.contentDocument.open();this.contentDocument.write(atob(this.getAttribute('data-html')));this.contentDocument.close();\" allowfullscreen webkitallowfullscreen mozallowfullscreen></iframe></div></div>"
            ],
            "text/plain": [
              "<folium.folium.Map at 0x128b2b990>"
            ]
          },
          "metadata": {
            "tags": []
          },
          "execution_count": 362
        }
      ]
    },
    {
      "cell_type": "markdown",
      "metadata": {
        "id": "f6wfqUCiLarX",
        "colab_type": "text"
      },
      "source": [
        "## Se remplazan el número de lugares dentro "
      ]
    },
    {
      "cell_type": "code",
      "metadata": {
        "id": "S7_K3gD0Lara",
        "colab_type": "code",
        "colab": {}
      },
      "source": [
        "####### ------ Transform coords ------- #########\n",
        "coords_to_clusterize = np.array(list(pd.DataFrame(Lugares_usaquen_sample.apply(lambda x: [float(x['Latitude']),float(x['Longitude'])],axis=1))[0]))\n",
        "coords_radians = np.radians(coords_to_clusterize)\n",
        "\n",
        "# Distancia máxima (1.5 kilómetros en este ejemplo) que los \n",
        "# puntos pueden estar el uno del otro para ser considerados un grupo\n",
        "Metros = 500\n",
        "Kilometros_cluster = Metros/1000\n",
        "\n",
        "#### ----- Radio del mundo ------ ######\n",
        "Kilometros_radio_mundo = 6371.0088\n",
        "####### ------- Se calcula el epsilon en radiales ------- ########\n",
        "epsilon = Kilometros_cluster/Kilometros_radio_mundo\n",
        "\n",
        "########## ---------- Calcular clusters  --------- ##########\n",
        "Clusters =DBSCAN(eps=epsilon,algorithm='ball_tree',metric='haversine',n_jobs=-1).fit(coords_radians)\n",
        "#### ------ Se extraen las etiquetas de cada lot, lat ----- ####\n",
        "Etiquetas_clusters = Clusters.labels_\n",
        "#### ------ Asignar la etiqueta a cada observación ----- ###### \n",
        "Lugares_usaquen_sample['Grupo'] = Etiquetas_clusters\n",
        "\n",
        "##### -------- Contar el número de observaciones por cluster ------ ##### \n",
        "Indice_clusters = pd.DataFrame(pd.value_counts(pd.DataFrame(Etiquetas_clusters)[0]).sort_index())[0]\n",
        "\n",
        "\n",
        "### ------- Numero de grupos creados ---- ##### \n",
        "num_clusters = len(set(Etiquetas_clusters))\n",
        "\n",
        "\n"
      ],
      "execution_count": null,
      "outputs": []
    },
    {
      "cell_type": "markdown",
      "metadata": {
        "id": "-J3hL47gLarh",
        "colab_type": "text"
      },
      "source": [
        "## Centroides"
      ]
    },
    {
      "cell_type": "code",
      "metadata": {
        "id": "yTkn-Y28Larl",
        "colab_type": "code",
        "colab": {}
      },
      "source": [
        "##### -------- Crear lista con las coordenadas ----- ###### \n",
        "clusters = pd.Series([coords_to_clusterize[Etiquetas_clusters == n] for n in list(set(Etiquetas_clusters))])\n",
        "\n",
        "####### ------ función para encontrar las coordenadas de los centroides ------- ###### \n",
        "def Obtener_centro_clusters(cluster):\n",
        "    ### ------- Encontrar el centroide de la figura ------ ####### \n",
        "    Centroide = MultiPoint(cluster).centroid.coords[0]\n",
        "    ###### -------- Calcular distancia a un punto real -------- ######\n",
        "    ##### ----------- Encontrar distancia minima ----- ####### \n",
        "    centermost_point = min(cluster , key=lambda x: great_circle(x , Centroide).m)\n",
        "    return tuple(centermost_point)\n",
        "\n",
        "\n",
        "\n",
        "###### ------- Calculate centroid ------- #######\n",
        "Coordenadas_centroides = list( map(lambda x: Obtener_centro_clusters(x),clusters))\n",
        "### ----- Extraer las latitude y longitudes \n",
        "Latitudes = list(map(lambda x: x[0],Coordenadas_centroides))\n",
        "Longitudes = list(map(lambda x: x[1],Coordenadas_centroides)) \n",
        "### --------- Consolidar dataframe ---- ### \n",
        "Centroides_info = pd.DataFrame({'Longitude':Longitudes, 'Latitude':Latitudes})\n",
        "### ------- Buscar información del centroide ------- #### \n",
        "Centroides = Centroides_info.apply(lambda row: Lugares_usaquen_sample[(Lugares_usaquen_sample['Latitude']==row['Latitude']) & (Lugares_usaquen_sample['Longitude']==row['Longitude'])].iloc[0], axis=1)\n",
        "Centroides = pd.DataFrame(Centroides)\n",
        "\n"
      ],
      "execution_count": null,
      "outputs": []
    },
    {
      "cell_type": "markdown",
      "metadata": {
        "id": "eATfNxfPLarr",
        "colab_type": "text"
      },
      "source": [
        "### Crear Mapa"
      ]
    },
    {
      "cell_type": "code",
      "metadata": {
        "id": "aMcikEVRLars",
        "colab_type": "code",
        "colab": {}
      },
      "source": [
        "\n",
        "mapa = folium.Map(location=[Centroides.head(1)['Latitude'].iloc[0],Centroides.head(1)['Longitude'].iloc[0]],zoom_start=13,tiles='cartodbpositron')\n",
        "\n",
        "Vector_colores = ['red', 'blue', 'green', 'purple', 'orange', 'darkred','lightred', 'beige', 'darkblue', 'darkgreen', 'cadetblue', 'darkpurple', 'white', 'pink', 'lightblue', 'lightgreen', 'gray', 'black', 'lightgray']\n",
        "\n",
        "##### ------- Graficar Centroides ------ ###### \n",
        "for j in range(0,len(Centroides)):\n",
        "    punto = Centroides.iloc[j] \n",
        "    folium.Marker(\n",
        "        [punto['Latitude'],punto['Longitude']],icon=folium.Icon(color=Vector_colores[j], icon='cloud'),tooltip=punto['Nombre']\n",
        "    ).add_to(mapa)\n",
        "    \n",
        "    \n",
        "    ##### ------- Graficar vecinos de los centroides ------ ###### \n",
        "    Vecinos_cluster = Lugares_usaquen_sample[Lugares_usaquen_sample['Grupo'] == punto['Grupo']]\n",
        "    \n",
        "    ##### ------- Excluir al centro ------ ####\n",
        "    Vecinos_cluster = Vecinos_cluster[Vecinos_cluster['ID'] != punto['ID']] \n",
        "    for v in range(0,len(Vecinos_cluster)):\n",
        "        punto_vecino = Vecinos_cluster.iloc[v] \n",
        "        folium.Marker(\n",
        "            [punto_vecino['Latitude'],punto_vecino['Longitude']],icon=folium.Icon(color=Vector_colores[j], icon='book'),tooltip=punto_vecino['Nombre']\n",
        "        ).add_to(mapa)\n",
        "\n",
        "\n",
        "\n"
      ],
      "execution_count": null,
      "outputs": []
    }
  ]
}